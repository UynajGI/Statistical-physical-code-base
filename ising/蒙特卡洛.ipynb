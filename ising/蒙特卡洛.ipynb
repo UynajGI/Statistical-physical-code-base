{
 "cells": [
  {
   "cell_type": "markdown",
   "metadata": {},
   "source": [
    "# 蒙特卡洛模拟入门\n",
    "\n",
    "## 抛硬币"
   ]
  },
  {
   "cell_type": "code",
   "execution_count": 67,
   "metadata": {},
   "outputs": [],
   "source": [
    "import random\n",
    "import numpy as np\n",
    "import matplotlib.pyplot as plt"
   ]
  },
  {
   "cell_type": "code",
   "execution_count": 68,
   "metadata": {},
   "outputs": [],
   "source": [
    "def coin_flip():\n",
    "    return random.randint(0, 1)"
   ]
  },
  {
   "cell_type": "code",
   "execution_count": 69,
   "metadata": {},
   "outputs": [
    {
     "data": {
      "text/plain": [
       "1"
      ]
     },
     "execution_count": 69,
     "metadata": {},
     "output_type": "execute_result"
    }
   ],
   "source": [
    "coin_flip()"
   ]
  },
  {
   "cell_type": "code",
   "execution_count": 70,
   "metadata": {},
   "outputs": [],
   "source": [
    "list1 = []\n",
    "def monte_carlo_coin(n=5000):\n",
    "    results = 0.\n",
    "    for i in range(n):\n",
    "        flip_result = coin_flip()\n",
    "        results = results + flip_result\n",
    "\n",
    "        prob_value = results/(i+1)\n",
    "\n",
    "        list1.append(prob_value)\n",
    "\n",
    "    plt.axhline(y=0.5, color='red', linestyle='-')\n",
    "    plt.xlabel('Iterations')\n",
    "    plt.ylabel('Probability')\n",
    "    #plt.xscale(\"log\")\n",
    "    plt.plot(list1)\n",
    "    return results/n"
   ]
  },
  {
   "cell_type": "code",
   "execution_count": 71,
   "metadata": {},
   "outputs": [
    {
     "name": "stdout",
     "output_type": "stream",
     "text": [
      "Final vaule : 0.5134\n"
     ]
    },
    {
     "data": {
      "image/png": "[encoded data removed]",
      "text/plain": [
       "<Figure size 432x288 with 1 Axes>"
      ]
     },
     "metadata": {
      "needs_background": "light"
     },
     "output_type": "display_data"
    }
   ],
   "source": [
    "list1 = []\n",
    "answer = monte_carlo_coin()\n",
    "print(\"Final vaule :\", answer)"
   ]
  },
  {
   "cell_type": "markdown",
   "metadata": {},
   "source": [
    "## 计算$\\pi$"
   ]
  },
  {
   "cell_type": "code",
   "execution_count": 72,
   "metadata": {},
   "outputs": [],
   "source": [
    "def monte_carlo_pi(n=5,m=100):\n",
    "    import random\n",
    "    import numpy as np\n",
    "    import matplotlib.pyplot as plt\n",
    "    import turtle\n",
    "    import math\n",
    "\n",
    "    ## ----------------------------------------------------------------\n",
    "    myPen = turtle.Turtle()\n",
    "    myPen.hideturtle()\n",
    "    myPen.speed(0)\n",
    "\n",
    "    myPen.up()\n",
    "    myPen.setposition(-100,-100)\n",
    "    myPen.down()\n",
    "    myPen.fd(200)\n",
    "    myPen.left(90)\n",
    "    myPen.fd(200)\n",
    "\n",
    "    myPen.left(90)\n",
    "    myPen.fd(200)\n",
    "    myPen.left(90)\n",
    "    myPen.fd(200)\n",
    "    myPen.left(90)\n",
    "\n",
    "    myPen.up()\n",
    "    myPen.setposition(0,-100)\n",
    "    myPen.down()\n",
    "    myPen.circle(100)\n",
    "\n",
    "    ## ----------------------------------------------------------------\n",
    "    in_circle = 0\n",
    "    out_circle =0\n",
    "\n",
    "    pi_values =[]\n",
    "\n",
    "    ## ----------------------------------------------------------------\n",
    "    for i in range(n):\n",
    "        for j in range(m):\n",
    "\n",
    "            x = random.randrange(-100,100)\n",
    "            y = random.randrange(-100,100)\n",
    "\n",
    "            if (x**2+y**2>100**2):\n",
    "                myPen.color(\"black\")\n",
    "                myPen.up()\n",
    "                myPen.goto(x,y)\n",
    "                myPen.down()\n",
    "                myPen.dot()\n",
    "                out_circle = out_circle + 1\n",
    "            else:\n",
    "                myPen.color(\"red\")\n",
    "                myPen.up()\n",
    "                myPen.goto(x,y)\n",
    "                myPen.down()\n",
    "                myPen.dot()\n",
    "                in_circle = in_circle + 1\n",
    "\n",
    "            pi = 4.0 * in_circle / (in_circle + out_circle)\n",
    "\n",
    "            pi_values.append(pi)\n",
    "\n",
    "            avg_pi_errors = [abs(math.pi-pi) for pi in pi_values]\n",
    "\n",
    "        print (pi_values[-1])\n",
    "\n",
    "    ## ----------------------------------------------------------------\n",
    "    # plot the PI values\n",
    "\n",
    "    plt.axhline(y=math.pi,color='g',linestyle='-')\n",
    "    plt.plot(pi_values)\n",
    "    plt.xlabel(\"Iterations\")\n",
    "    plt.ylabel(\"Value of PI\")\n",
    "    plt.show()\n",
    "    #Plot the error in calculation\n",
    "    plt.axhline(y=0.0,color='g',linestyle='-')\n",
    "    plt.plot(avg_pi_errors)\n",
    "    plt.xlabel(\"Iterations\")\n",
    "    plt.ylabel(\"Error\")\n",
    "    plt.show()"
   ]
  },
  {
   "cell_type": "code",
   "execution_count": 73,
   "metadata": {},
   "outputs": [],
   "source": [
    "# monte_carlo_pi()"
   ]
  },
  {
   "cell_type": "markdown",
   "metadata": {},
   "source": [
    "## 三门问题"
   ]
  },
  {
   "cell_type": "code",
   "execution_count": 74,
   "metadata": {},
   "outputs": [
    {
     "name": "stdout",
     "output_type": "stream",
     "text": [
      "Winning probability if you always switch: 0.683\n",
      "Winning probability if you always stick to your original choice: 0.317\n"
     ]
    },
    {
     "data": {
      "image/png": "[encoded data removed]",
      "text/plain": [
       "<Figure size 432x288 with 1 Axes>"
      ]
     },
     "metadata": {
      "needs_background": "light"
     },
     "output_type": "display_data"
    }
   ],
   "source": [
    "import random\n",
    "import matplotlib.pyplot as plt\n",
    "\n",
    "#we are going with 3 doors\n",
    "#1-Car\n",
    "#2 Goats\n",
    "doors = [\"goat\",\"goat\",\"car\"]\n",
    "#Empty Lists to store probability values\n",
    "switch_win_probability = []\n",
    "stick_win_probability = []\n",
    "\n",
    "plt.axhline(y=2./3,color='r',linestyle='-')\n",
    "plt.axhline(y=1./3,color='g',linestyle='-')\n",
    "\n",
    "def monte_carlo_doors(n=1000):\n",
    "    switch_wins = 0\n",
    "    stick_wins = 0\n",
    "\n",
    "    for i in range(n):\n",
    "\n",
    "        random.shuffle(doors)\n",
    "\n",
    "        k = random.randrange(2)\n",
    "\n",
    "        if doors[k] != 'car':\n",
    "            switch_wins += 1\n",
    "        else:\n",
    "            stick_wins += 1\n",
    "        \n",
    "        switch_win_probability.append(switch_wins/(i+1))\n",
    "        stick_win_probability.append(stick_wins/(i+1))\n",
    "\n",
    "    plt.plot(switch_win_probability)\n",
    "    plt.plot(stick_win_probability)\n",
    "\n",
    "    print('Winning probability if you always switch:' ,switch_win_probability[-1])\n",
    "    print('Winning probability if you always stick to your original choice:',stick_win_probability[-1])\n",
    "\n",
    "monte_carlo_doors()"
   ]
  },
  {
   "cell_type": "markdown",
   "metadata": {},
   "source": [
    "# Ising 模型 \n",
    "## 1"
   ]
  },
  {
   "cell_type": "code",
   "execution_count": 75,
   "metadata": {},
   "outputs": [],
   "source": [
    "import random\n",
    "import matplotlib.pyplot as plt\n",
    "import numpy as np\n",
    "import copy\n",
    "import math\n",
    "import time"
   ]
  },
  {
   "cell_type": "code",
   "execution_count": 76,
   "metadata": {},
   "outputs": [],
   "source": [
    "def main():\n",
    "    size = 30 # 体系大小\n",
    "    T = 2 # 温度\n",
    "    ising = get_one_samples(sizeOfSample=size,temperature=T)\n",
    "    plot(ising)\n",
    "    energy_s = []\n",
    "    for i in range(size):\n",
    "        for j in range(size):\n",
    "            energy_s = np.append(energy_s,[getEnergy(i,j,ising)],axis=0)\n",
    "    plt.hist(energy_s,bins=50,density=1,facecolor='red',alpha=0.7)\n",
    "    plt.show()\n",
    "\n",
    "def get_one_samples(sizeOfSample, temperature):\n",
    "    S = np.pi * np.random.randint(0,2,size = (sizeOfSample, sizeOfSample)) # 随机初始状态，角度是0或pi\n",
    "    print(\"体系大小:\", S.shape)\n",
    "    initialEnergy = calculateAllEnergy(S) #计算随机初始状态的能量\n",
    "    print(\"系统的初始能量是:\", initialEnergy)\n",
    "    newS = np.array(copy.deepcopy(S))\n",
    "    for i00 in range(1000):\n",
    "        newS = monte_carlo_ising2(newS,temperature)\n",
    "        newEnergy = calculateAllEnergy(newS) \n",
    "        if np.mod(i00+1,100) == 0:\n",
    "            print(\"循环次数%i,当前系统能量是:\"%(i00+1),newEnergy)\n",
    "    return newS\n",
    "\n",
    "def calculateAllEnergy(S):\n",
    "\n",
    "    energy = 0\n",
    "    for i in range(S.shape[0]):\n",
    "        for j in range(S.shape[1]):\n",
    "            energy += getEnergy(i,j,S)\n",
    "    return energy/2 #作用两次要减半\n",
    "\n",
    "def getEnergy(i,j,S,angle = None):\n",
    "    width = S.shape[0]\n",
    "    height = S.shape[1]\n",
    "    top_i = i - 1 if i > 0 else width - 1 #周期性边界条件\n",
    "    bottom_i = i + 1 if i < (width - 1) else 0\n",
    "    left_j = j - 1 if j > 0 else height - 1 \n",
    "    right_j = j + 1 if j < (height - 1) else 0\n",
    "    environment = [[top_i,j],[bottom_i,j],[i,left_j],[i,right_j]]\n",
    "    energy = 0\n",
    "    if angle == None:\n",
    "        for num_i in environment:\n",
    "            energy += -np.cos(S[i,j]-S[num_i[0],num_i[1]])\n",
    "    else:\n",
    "        for num_i in environment:\n",
    "            energy += -np.cos(angle-S[num_i[0],num_i[1]])\n",
    "    return energy\n",
    "\n",
    "def monte_carlo_ising2(S,T):\n",
    "    delta_max = np.pi #角度最大的变化度，默认为90度\n",
    "    k = 1 #玻尔兹曼常数\n",
    "    for i in range(S.shape[0]):\n",
    "        for j in range(S.shape[1]):\n",
    "            delta = np.random.randint(0,2) * delta_max # 角度变化0度或180度\n",
    "            newAngle = S[i,j] + delta #新角度\n",
    "            energyBefore = getEnergy(i,j,S) #获取该格点的能量\n",
    "            energyLater = getEnergy(i,j,S,angle=newAngle) #获取该格点改变角度后的能量\n",
    "            alpha = min(1.,np.exp(-(energyLater-energyBefore)/(k*T))) #玻尔兹曼分布\n",
    "            if random.uniform(0,1) <= alpha:\n",
    "                S[i,j] = newAngle #接受新状态\n",
    "            else:\n",
    "                pass\n",
    "    return S\n",
    "\n",
    "def plot(S): #画图\n",
    "    X, Y = np.meshgrid(np.arange(0,S.shape[0]),np.arange(S.shape[1]))\n",
    "    U = np.cos(S)\n",
    "    V = np.sin(S)\n",
    "    plt.figure(figsize=[8,8])\n",
    "    plt.quiver(X,Y,U,V,units = \"inches\")\n",
    "    plt.show()\n",
    "\n",
    "if __name__ == \"__main__\":\n",
    "    pass\n",
    "    #main()\n"
   ]
  },
  {
   "cell_type": "markdown",
   "metadata": {},
   "source": [
    "## 2"
   ]
  },
  {
   "cell_type": "code",
   "execution_count": 77,
   "metadata": {},
   "outputs": [],
   "source": [
    "import random\n",
    "import matplotlib.pyplot as plt\n",
    "import numpy as np\n",
    "import copy\n",
    "import math\n",
    "import time\n",
    "from matplotlib import animation"
   ]
  },
  {
   "cell_type": "code",
   "execution_count": 78,
   "metadata": {},
   "outputs": [],
   "source": [
    "def neighor_spin_sum(s, x, y):\n",
    "    \"\"\"近接スピンの和を計算\n",
    "\n",
    "    Parameters\n",
    "    --------------------\n",
    "    s : スピン配位\n",
    "    x : 格子点のx座標\n",
    "    y : 格子点のy座標\n",
    "\n",
    "    Returns\n",
    "    --------------------\n",
    "    neighor_spin_sum : 近接スピンの和\n",
    "    \"\"\"\n",
    "    x_right=x+1\n",
    "    x_left=x-1\n",
    "    y_up=y+1\n",
    "    y_down=y-1\n",
    "\n",
    "    # 周期境界条件\n",
    "    if x_right>=Nx:\n",
    "        x_right-=Nx\n",
    "    if x_left<0:\n",
    "        x_left+=Nx\n",
    "    if y_up>=Ny:\n",
    "        y_up-=Ny\n",
    "    if y_down<0:\n",
    "        y_down+=Ny\n",
    "\n",
    "    neighor_spin_sum=s[x_right][y]+s[x_left][y]+s[x][y_up]+s[x][y_down]\n",
    "    return neighor_spin_sum"
   ]
  },
  {
   "cell_type": "code",
   "execution_count": 79,
   "metadata": {},
   "outputs": [],
   "source": [
    "def calc_energy(s, h=0.01):\n",
    "    \"\"\"エネルギーを計算\n",
    "\n",
    "    Parameters\n",
    "    --------------------\n",
    "    s : スピン配位\n",
    "    h : 外部磁場(バイアス)\n",
    "\n",
    "    Returns\n",
    "    --------------------\n",
    "    energy : エネルギー\n",
    "    \"\"\"\n",
    "    energy = 0\n",
    "    for x in range(Nx):\n",
    "        for y in range(Ny):\n",
    "            # dobule count\n",
    "            energy += - s[x][y] * neighor_spin_sum(s, x, y)/2\n",
    "    energy += h*np.sum(s)\n",
    "    return energy"
   ]
  },
  {
   "cell_type": "code",
   "execution_count": 80,
   "metadata": {},
   "outputs": [],
   "source": [
    "def metropolis(s, beta=1, h=0.001):\n",
    "    \"\"\"メトロポリス法\n",
    "\n",
    "    Parameters\n",
    "    --------------------\n",
    "    s : スピン配位\n",
    "    beta : 逆温度パラメータ\n",
    "    h : 外部磁場(バイアス)\n",
    "\n",
    "    Returns\n",
    "    --------------------\n",
    "    s : 更新後のスピン配位\n",
    "    \"\"\"\n",
    "    xs=list(range(Nx))\n",
    "    random.shuffle(xs)\n",
    "    ys=list(range(Ny))\n",
    "    random.shuffle(ys)\n",
    "    for x in xs:\n",
    "        for y in ys:\n",
    "            k=neighor_spin_sum(s, x, y)+h\n",
    "            trans_prob = np.exp(-2*beta*s[x][y]*k)\n",
    "            if np.random.random()<=trans_prob:\n",
    "                s[x][y] = -s[x][y]\n",
    "    return s   "
   ]
  },
  {
   "cell_type": "code",
   "execution_count": 81,
   "metadata": {},
   "outputs": [],
   "source": [
    "def gibbs_sampling(s, beta=1.0, h=0.001):\n",
    "    \"\"\"ギブスサンプリング\n",
    "\n",
    "    Parameters\n",
    "    --------------------\n",
    "    s : スピン配位\n",
    "    beta : 逆温度パラメータ\n",
    "    h : 外部磁場(バイアス)\n",
    "\n",
    "    Returns\n",
    "    --------------------\n",
    "    s : 更新後のスピン配位\n",
    "    \"\"\"\n",
    "    xs=list(range(Nx))\n",
    "    random.shuffle(xs)\n",
    "    ys=list(range(Ny))\n",
    "    random.shuffle(ys)\n",
    "    for x in xs:\n",
    "        for y in ys:\n",
    "            k=neighor_spin_sum(s, x, y)-h\n",
    "            trans_prob = np.exp(beta*k) / (np.exp(beta*k)+np.exp(-beta*k))\n",
    "            if np.random.random()<=trans_prob:\n",
    "                s[x][y]=1\n",
    "            else:\n",
    "                s[x][y]=-1\n",
    "    return s"
   ]
  },
  {
   "cell_type": "code",
   "execution_count": 95,
   "metadata": {},
   "outputs": [],
   "source": [
    "def mcmc(s, steps=1000, beta=1.0, h=0.001, method='gibbs', interval=10, burn_in=10**2, animation=True, ani_interval=10):\n",
    "    \"\"\"マルコフ連鎖モンテカルロ法を実行\n",
    "    \n",
    "    Parameters\n",
    "    -------------------\n",
    "    s : 初期スピン配位\n",
    "    steps : モンテカルロステップ\n",
    "    beta : 逆温度パラメータ\n",
    "    h : 外部磁場(バイアス)\n",
    "    method : モンテカルロ法の手法, メトロポリス法 : metropolis, ギブスサンプリング : gibbs\n",
    "    interval : サンプルを取得するインターバル\n",
    "    burn_in : バーンインタイム\n",
    "\n",
    "    Returns\n",
    "    -------------------\n",
    "    ms : 各ステップの磁化のリスト\n",
    "    energies : 各ステップのエネルギーのリスト\n",
    "    square_energies : 各ステップのエネルギーの二乗のリスト\n",
    "    \"\"\"\n",
    "    ms=[]\n",
    "    energies=[]\n",
    "    square_energies=[]\n",
    "    # Metropolis \n",
    "    if method=='metropolis':\n",
    "        for step in range(steps):\n",
    "            s = metropolis(s, beta=beta, h=h)\n",
    "            # 自己相関が切れる部分かつburn inを捨てる\n",
    "            if (step%interval==0)&(step>=burn_in):\n",
    "                # 磁化を計算\n",
    "                m = np.sum(s) / (Nx*Ny)\n",
    "                # エネルギーを計算\n",
    "                energy = calc_energy(s, h=h)\n",
    "                # エネルギーの二乗を計算\n",
    "                square_energy = energy**2 \n",
    "                ms.append(m)\n",
    "                energies.append(energy)\n",
    "                square_energies.append(square_energy)\n",
    "\n",
    "    # Gibbs\n",
    "    elif method=='gibbs':\n",
    "        for step in range(steps):\n",
    "            s = gibbs_sampling(s, beta=beta, h=h)\n",
    "            if (step%interval==0)&(step>=burn_in):\n",
    "                # 磁化を計算\n",
    "                m = np.sum(s) / (Nx*Ny)\n",
    "                # エネルギーを計算\n",
    "                energy = calc_energy(s, h=h) \n",
    "                # エネルギーの二乗を計算\n",
    "                square_energy = energy**2\n",
    "                ms.append(m)\n",
    "                energies.append(energy)\n",
    "                square_energies.append(square_energy)\n",
    "    return ms, energies, square_energies"
   ]
  },
  {
   "cell_type": "code",
   "execution_count": 83,
   "metadata": {},
   "outputs": [],
   "source": [
    "# 格子の大きさ\n",
    "Nx = 32\n",
    "Ny = 32\n",
    "steps=10**4\n",
    "# 初期配位\n",
    "s = np.ones((Nx, Ny)).tolist()\n",
    "ms, energies, square_energies=mcmc(s, steps=steps, beta=0.1, h=0.0)"
   ]
  },
  {
   "cell_type": "code",
   "execution_count": 84,
   "metadata": {},
   "outputs": [
    {
     "data": {
      "image/png": "[encoded data removed]",
      "text/plain": [
       "<Figure size 432x288 with 1 Axes>"
      ]
     },
     "metadata": {
      "needs_background": "light"
     },
     "output_type": "display_data"
    }
   ],
   "source": [
    "# 磁化\n",
    "time = np.arange(1, len(ms)+1)\n",
    "fig, ax=plt.subplots()\n",
    "ax.plot(time, ms)\n",
    "ax.set_ylim([-1.1, 1.1])\n",
    "ax.set_xlabel('MCS', fontsize=20)\n",
    "ax.set_ylabel('Magnetization', fontsize=20)\n",
    "plt.tick_params(axis='y', width=1, length=4, pad=5, color='k', direction='in', labelsize=15, labelcolor='k')\n",
    "plt.tick_params(axis='x', width=1, length=4, pad=5, color='k', direction='in', labelsize=15, labelcolor='k')\n",
    "plt.show()"
   ]
  },
  {
   "cell_type": "code",
   "execution_count": 85,
   "metadata": {},
   "outputs": [],
   "source": [
    "def mcmc_beta(s, betas, total_steps=10**5, burn_in=10**2, interval=20, h=0.01):\n",
    "    \"\"\"各温度毎にMCMCを実行\n",
    "\n",
    "    Parameters\n",
    "    --------------------\n",
    "    s : 初期配位\n",
    "    betas : MCMCを走らせる温度のリスト\n",
    "    total_steps : モンテカルロステップ\n",
    "    burn_in : バーンインタイム\n",
    "    interval : サンプルを取得するインターバル\n",
    "    h : 外部磁場\n",
    "\n",
    "    Returns\n",
    "    -------------------\n",
    "    mags : 各温度の磁化\n",
    "    mags_err : 各温度の各磁化の標準誤差\n",
    "    energies : 各温度のエネルギー\n",
    "    energies_err : 各温度の各エネルギーの標準誤差\n",
    "    capacities : 各温度の比熱\n",
    "    \"\"\"\n",
    "    b_mags=[]\n",
    "    b_mags_err=[]\n",
    "    b_energies=[]\n",
    "    b_energies_err=[]\n",
    "    b_capacities=[]\n",
    "    for beta in betas:\n",
    "        ms, energies, square_energies=mcmc(s, steps=total_steps, beta=beta, h=h, interval=interval, burn_in=burn_in)\n",
    "        # 磁化\n",
    "        b_mag=np.mean(ms)\n",
    "        b_mag_err=np.std(ms)/np.sqrt(len(ms)-1)\n",
    "        # エネルギー\n",
    "        b_energy = np.mean(energies)\n",
    "        b_energy_err = np.std(energies)/(np.sqrt(len(ms)-1))\n",
    "        # 比熱\n",
    "        b_square_energy = np.mean(square_energies)        \n",
    "        b_capacity = (beta**2)*(b_square_energy - b_energy**2)\n",
    "\n",
    "        b_mags.append(b_mag)\n",
    "        b_mags_err.append(b_mag_err)\n",
    "        b_energies.append(b_energy)\n",
    "        b_energies_err.append(b_energy_err)\n",
    "        b_capacities.append(b_capacity)\n",
    "    return b_mags, b_mags_err, b_energies, b_energies_err, b_capacities"
   ]
  },
  {
   "cell_type": "code",
   "execution_count": 96,
   "metadata": {},
   "outputs": [],
   "source": [
    "Nx = 64\n",
    "Ny = 64\n",
    "steps=10**4\n",
    "# 初期状態\n",
    "s = np.ones((Nx, Ny)).tolist()\n",
    "interval=20\n",
    "# サンプルする逆温度の値 \n",
    "betas=np.linspace(0.05, 1.0, 20).tolist()\n",
    "# mcmcを実行\n",
    "b_mags, b_mags_err, b_energies, b_energies_err, b_capacities = mcmc_beta(s, betas, total_steps=10**3)"
   ]
  },
  {
   "cell_type": "code",
   "execution_count": 97,
   "metadata": {},
   "outputs": [
    {
     "data": {
      "image/png": "[encoded data removed]",
      "text/plain": [
       "<Figure size 432x288 with 1 Axes>"
      ]
     },
     "metadata": {
      "needs_background": "light"
     },
     "output_type": "display_data"
    }
   ],
   "source": [
    "fig, ax=plt.subplots()\n",
    "betas = np.array(betas)\n",
    "b_mags = np.array(b_mags)\n",
    "b_mags_err = np.array(b_mags_err)\n",
    "ax.errorbar(betas, b_mags, yerr=b_mags_err, capsize=4)\n",
    "ax.set_xlabel(r'$\\beta$', fontsize=20)\n",
    "ax.set_ylabel('Magnetization', fontsize=20)\n",
    "plt.tick_params(axis='y', width=1, length=4, pad=5, color='k', direction='in', labelsize=15, labelcolor='k')\n",
    "plt.tick_params(axis='x', width=1, length=4, pad=5, color='k', direction='in', labelsize=15, labelcolor='k')\n",
    "plt.show()"
   ]
  },
  {
   "cell_type": "code",
   "execution_count": 98,
   "metadata": {},
   "outputs": [
    {
     "data": {
      "image/png": "[encoded data removed]",
      "text/plain": [
       "<Figure size 432x288 with 1 Axes>"
      ]
     },
     "metadata": {
      "needs_background": "light"
     },
     "output_type": "display_data"
    }
   ],
   "source": [
    "fig, ax = plt.subplots()\n",
    "betas = np.array(betas)\n",
    "b_capacities = np.array(b_capacities)\n",
    "ax.plot(betas, b_capacities)\n",
    "ax.set_xlabel(r'$\\beta$', fontsize=20)\n",
    "ax.set_ylabel('Capacity', fontsize=20)\n",
    "plt.tick_params(axis='y', width=1, length=4, pad=5, color='k', direction='in', labelsize=15, labelcolor='k')\n",
    "plt.tick_params(axis='x', width=1, length=4, pad=5, color='k', direction='in', labelsize=15, labelcolor='k')\n",
    "plt.show()"
   ]
  },
  {
   "cell_type": "code",
   "execution_count": 99,
   "metadata": {},
   "outputs": [
    {
     "data": {
      "image/png": "[encoded data removed]",
      "text/plain": [
       "<Figure size 432x288 with 1 Axes>"
      ]
     },
     "metadata": {
      "needs_background": "light"
     },
     "output_type": "display_data"
    }
   ],
   "source": [
    "fig, ax = plt.subplots()\n",
    "betas = np.array(betas)\n",
    "b_energies = np.array(b_energies)\n",
    "ax.plot(betas, b_energies)\n",
    "ax.set_xlabel(r'$\\beta$', fontsize=20)\n",
    "ax.set_ylabel('Energies', fontsize=20)\n",
    "plt.tick_params(axis='y', width=1, length=4, pad=5, color='k', direction='in', labelsize=15, labelcolor='k')\n",
    "plt.tick_params(axis='x', width=1, length=4, pad=5, color='k', direction='in', labelsize=15, labelcolor='k')\n",
    "plt.show()"
   ]
  }
 ],
 "metadata": {
  "kernelspec": {
   "display_name": "Python 3.7.4 64-bit",
   "language": "python",
   "name": "python3"
  },
  "language_info": {
   "codemirror_mode": {
    "name": "ipython",
    "version": 3
   },
   "file_extension": ".py",
   "mimetype": "text/x-python",
   "name": "python",
   "nbconvert_exporter": "python",
   "pygments_lexer": "ipython3",
   "version": "3.7.4"
  },
  "orig_nbformat": 4,
  "vscode": {
   "interpreter": {
    "hash": "eb0650770e81605520e90f235013585ff13eb2c0e466129767ec6b2289de2ff1"
   }
  }
 },
 "nbformat": 4,
 "nbformat_minor": 2
}
